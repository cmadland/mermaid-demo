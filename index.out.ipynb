{
 "cells": [
  {
   "cell_type": "markdown",
   "metadata": {},
   "source": [
    "# mermaid-demo\n",
    "\n",
    "Norah Jones (The University)\n",
    "\n",
    "## Section\n",
    "\n",
    "This is a simple placeholder for the manuscript’s main document ([Knuth 1984](#ref-knuth84))."
   ],
   "id": "e70e3ded-df73-40c2-9143-59b44222699b"
  },
  {
   "cell_type": "code",
   "execution_count": null,
   "metadata": {
    "layout-align": "default"
   },
   "outputs": [
    {
     "output_type": "display_data",
     "metadata": {},
     "data": {
      "text/html": [
       "<pre class=\"mermaid mermaid-js\">flowchart TD\n",
       "        A[&quot;Technology-Integrated Assessment&quot;]\n",
       " subgraph subgraph_2rvu6wpa7[&quot;Postulated Factors&quot;]\n",
       "        B(&quot;Assessment Purpose&quot;)\n",
       "        C(&quot;Duty of Care&quot;)\n",
       "        D(&quot;Technology Acceptance&quot;)\n",
       "        E(&quot;Assessment Design&quot;)\n",
       "  end\n",
       " subgraph subgraph_p3azrijwm[&quot;Indicators&quot;]\n",
       "        F([&quot;Assessment of Learning&quot;])\n",
       "        G([&quot;Assessment for Learning&quot;])\n",
       "        H([&quot;Assessment as Learning&quot;])\n",
       "        I([&quot;Bias&quot;])\n",
       "        J([&quot;Inclusion&quot;])\n",
       "        K([&quot;Relationships&quot;])\n",
       "        L([&quot;Ethical EdTech&quot;])\n",
       "        M([&quot;Performance Expectancy&quot;])\n",
       "        N([&quot;Effort Expectancy&quot;])\n",
       "        O([&quot;Social Influence&quot;])\n",
       "        P([&quot;Facilitating Conditions&quot;])\n",
       "        Q([&quot;Measurement Theory&quot;])\n",
       "        R([&quot;Academic Integrity&quot;])\n",
       "        S([&quot;Relevance&quot;])\n",
       "        T([&quot;Reciprocity&quot;])\n",
       "  end\n",
       "    A --- B &amp; C &amp; D &amp; E\n",
       "    B --- F\n",
       "    F --- G\n",
       "    G --- H\n",
       "    C --- I\n",
       "    I --- J\n",
       "    J --- K\n",
       "    K --- L\n",
       "    D --- M\n",
       "    M --- N\n",
       "    N --- O\n",
       "    O --- P\n",
       "    E --- Q\n",
       "    Q --- R\n",
       "    R --- S\n",
       "    S --- T\n",
       "     B:::purpose\n",
       "     C:::duty\n",
       "     D:::accept\n",
       "     E:::design\n",
       "     F:::purpose\n",
       "     G:::purpose\n",
       "     H:::purpose\n",
       "     I:::duty\n",
       "     J:::duty\n",
       "     K:::duty\n",
       "     L:::duty\n",
       "     M:::accept\n",
       "     N:::accept\n",
       "     O:::accept\n",
       "     P:::accept\n",
       "     Q:::design\n",
       "     R:::design\n",
       "     S:::design\n",
       "     T:::design\n",
       "    classDef purpose fill:#440154,color:#fff,stroke:#440154,stroke-width:4px\n",
       "    classDef duty fill:#3B528B,color:#fff,stroke:#3B528B,stroke-width:4px\n",
       "    classDef accept fill:#21918c,color:#fff,stroke:#21918c,stroke-width:4px\n",
       "    classDef design fill:#5EC962,color:#000,stroke:#5EC962,stroke-width:4px\n",
       "    style subgraph_2rvu6wpa7 fill:#BBDEFB\n",
       "    style subgraph_p3azrijwm fill:#C8E6C9\n",
       "</pre>"
      ]
     }
    }
   ],
   "source": [],
   "id": "18a2a949-8e2b-4409-a263-5ad1c02ec8e4"
  },
  {
   "cell_type": "markdown",
   "metadata": {},
   "source": [
    "Knuth, Donald E. 1984. “Literate Programming.” *Comput. J.* 27 (2): 97–111. <https://doi.org/10.1093/comjnl/27.2.97>."
   ],
   "id": "91823f9e-9ec6-47e4-9d76-878ff9b4df1a"
  }
 ],
 "nbformat": 4,
 "nbformat_minor": 5,
 "metadata": {}
}
